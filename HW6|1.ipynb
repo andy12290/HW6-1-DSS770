{
 "cells": [
  {
   "cell_type": "markdown",
   "metadata": {},
   "source": [
    "* Name: Aniket Devidas Kale\n",
    "* Class: DSS640\n",
    "* Exception Handling Assignment  \n",
    "* pp 248-250 Exercises 1-30"
   ]
  },
  {
   "cell_type": "markdown",
   "metadata": {},
   "source": [
    "# 1\n",
    "- Determine the Error message generated in the below examples 1 to 22\n",
    "- x = int(\"1.234\")\n",
    "- output\n",
    "- ValueError: invalid literal for int() with base 10: '1.234'"
   ]
  },
  {
   "cell_type": "markdown",
   "metadata": {},
   "source": [
    "# 2\n",
    "- f = open(\"Ages.txt\", \"p\")\n",
    "- output\n",
    "- ValueError: invalid mode: 'p'"
   ]
  },
  {
   "cell_type": "markdown",
   "metadata": {},
   "source": [
    "# 3\n",
    "- num = abs(\"-3\")\n",
    "- output\n",
    "- TypeError: bad operand type for abs(): 'str'"
   ]
  },
  {
   "cell_type": "markdown",
   "metadata": {},
   "source": [
    "# 4\n",
    "- total = (2 + '3')\n",
    "- output\n",
    "- TypeError: unsupported operand type(s) for +: 'int' and 'str'"
   ]
  },
  {
   "cell_type": "markdown",
   "metadata": {},
   "source": [
    "# 5\n",
    "- x = ['a', 'b'] [2]\n",
    "- output\n",
    "- IndexError: list index out of range\n"
   ]
  },
  {
   "cell_type": "markdown",
   "metadata": {},
   "source": [
    "# 6\n",
    "- x = list(range(1,9))[8]\n",
    "- output\n",
    "- IndexError: list index out of range"
   ]
  },
  {
   "cell_type": "markdown",
   "metadata": {},
   "source": [
    "# 7\n",
    "- x = 23\n",
    "- x.startswith(2)\n",
    "- output\n",
    "- AttributeError: 'int' object has no attribute 'startswith'"
   ]
  },
  {
   "cell_type": "markdown",
   "metadata": {},
   "source": [
    "# 8\n",
    "- x = 8\n",
    "- x.append(2)\n",
    "- output\n",
    "- AttributeError: 'int' object has no attribute 'append'\n"
   ]
  },
  {
   "cell_type": "markdown",
   "metadata": {},
   "source": [
    "# 9\n",
    "x = {'1':\"undo\", \"2\":\"dos\"}[2]\n",
    "-output\n",
    "KeyError: 2\n",
    "|"
   ]
  },
  {
   "cell_type": "markdown",
   "metadata": {},
   "source": [
    "# 10\n",
    "- {\"mars\":\"war\", \"Neptune\":\"sea\"}[\"venus\"]\n",
    "- output\n",
    "- KeyError: 'venus'"
   ]
  },
  {
   "cell_type": "markdown",
   "metadata": {},
   "source": [
    "# 11\n",
    "- num = [1, 3].index(2)\n",
    "- Error\n",
    "- ValueError: 2 is not in list"
   ]
  },
  {
   "cell_type": "markdown",
   "metadata": {},
   "source": [
    "# 12\n",
    "- num = [1,3].index(-3)\n",
    "- Error\n",
    "- ValueError: -3 is not in list\n"
   ]
  },
  {
   "cell_type": "markdown",
   "metadata": {},
   "source": [
    "# 13\n",
    "- letter = ('ha'*5)[10]\n",
    "- Error\n",
    "- IndexError: string index out of range\n"
   ]
  },
  {
   "cell_type": "markdown",
   "metadata": {},
   "source": [
    "# 14\n",
    "- s = \"\"[-1]\n",
    "- Error\n",
    "- IndexError: string index out of range\n"
   ]
  },
  {
   "cell_type": "markdown",
   "metadata": {},
   "source": [
    "# 15\n",
    "- x = [1,2,4].items()\n",
    "- Error\n",
    "- AttributeError: 'list' object has no attribute 'items'\n"
   ]
  },
  {
   "cell_type": "markdown",
   "metadata": {},
   "source": [
    "# 16\n",
    "- (2,3,1).xyz()\n",
    "- Error\n",
    "- AttributeError: 'tuple' object has no attribute 'xyz'\n"
   ]
  },
  {
   "cell_type": "markdown",
   "metadata": {},
   "source": [
    "# 17\n",
    "- num = eval(123)\n",
    "- Error\n",
    "- TypeError: eval() arg 1 must be a string, bytes or code object\n"
   ]
  },
  {
   "cell_type": "markdown",
   "metadata": {},
   "source": [
    "# 18\n",
    "- value = min[1,\"a\"]\n",
    "- Error\n",
    "- TypeError: 'builtin_function_or_method' object is not subscriptable\n"
   ]
  },
  {
   "cell_type": "markdown",
   "metadata": {},
   "source": [
    "# 19\n",
    "- del(2,3,1)[2]\n",
    "- Error\n",
    "- TypeError: 'tuple' object doesn't support item deletion\n"
   ]
  },
  {
   "cell_type": "markdown",
   "metadata": {},
   "source": [
    "# 20\n",
    "- print(2 in \"Onetwo\")\n",
    "- Error\n",
    "- TypeError: 'in <string>' requires string as left operand, not int"
   ]
  },
  {
   "cell_type": "markdown",
   "metadata": {},
   "source": [
    "# 21\n",
    "- {\"air\", 'fire', 'earth','water'}.sort()\n",
    "- Error\n",
    "- AttributeError: 'set' object has no attribute 'sort'"
   ]
  },
  {
   "cell_type": "markdown",
   "metadata": {},
   "source": [
    "# 22\n",
    "- ['air', 'fire', 'water'].remove('earth')\n",
    "- Error\n",
    "\n",
    "- ValueError: list.remove(x): x not in list\n"
   ]
  },
  {
   "cell_type": "markdown",
   "metadata": {},
   "source": [
    "# Problems 23 to 30 "
   ]
  },
  {
   "cell_type": "code",
   "execution_count": 1,
   "metadata": {
    "collapsed": false
   },
   "outputs": [
    {
     "name": "stdout",
     "output_type": "stream",
     "text": [
      "Enter a number: 12\n",
      "your number is 12.0\n"
     ]
    }
   ],
   "source": [
    "# 23\n",
    "# Determine the output display\n",
    "try:\n",
    "    num = float(input(\"Enter a number: \"))\n",
    "    print(\"your number is\", num)\n",
    "except:\n",
    "    print(\"you must enter a numeber\")"
   ]
  },
  {
   "cell_type": "code",
   "execution_count": 2,
   "metadata": {
    "collapsed": false
   },
   "outputs": [
    {
     "name": "stdout",
     "output_type": "stream",
     "text": [
      "Error Occured\n"
     ]
    }
   ],
   "source": [
    "# 24\n",
    "nafta = [\"Canada\", \"USA\", \"Mexico\"]\n",
    "try:\n",
    "    print(\"the third member of nafta\", nafta[3])\n",
    "except IndexError:\n",
    "    print(\"Error Occured\")\n",
    "    "
   ]
  },
  {
   "cell_type": "code",
   "execution_count": 3,
   "metadata": {
    "collapsed": false
   },
   "outputs": [
    {
     "name": "stdout",
     "output_type": "stream",
     "text": [
      "string index out of range\n",
      "oops\n"
     ]
    }
   ],
   "source": [
    "# 25\n",
    "flower = \"BougainVillea\"\n",
    "try:\n",
    "    lastLetter = flower[13]\n",
    "    print(lastLetter)\n",
    "except TypeError:\n",
    "    print(\"Error Occured\")\n",
    "except IndexError as exe:\n",
    "    print(exe)\n",
    "    print(\"oops\")\n",
    "    "
   ]
  },
  {
   "cell_type": "code",
   "execution_count": 4,
   "metadata": {
    "collapsed": false
   },
   "outputs": [
    {
     "name": "stdout",
     "output_type": "stream",
     "text": [
      "Invalid Age\n"
     ]
    }
   ],
   "source": [
    "# 26\n",
    "try:\n",
    "    infile = open(\"Ages.txt\", \"r\")\n",
    "    age = int(infile.readline())\n",
    "    print(\"Age\", age)\n",
    "except FileNotFoundError:\n",
    "    print(\"File age.txt not exist\")\n",
    "except ValueError:\n",
    "    print(\"Invalid Age\")\n",
    "    infile.close()\n",
    "else:\n",
    "    infile.close()"
   ]
  },
  {
   "cell_type": "code",
   "execution_count": 5,
   "metadata": {
    "collapsed": false
   },
   "outputs": [],
   "source": [
    "# 27\n",
    "def main():\n",
    "    try:\n",
    "        infile = open(\"Salaries.txt\",\"r\")\n",
    "        salary = int(infile.readline())\n",
    "        print(\"Salary\", salary)\n",
    "    except FileNotFoundError:\n",
    "        print(\"File not found\")    \n",
    "    except ValueError:\n",
    "        print(\"Invalid Salary\")\n",
    "        infile.close()\n",
    "    else:\n",
    "        infile.close() \n",
    "    finally:\n",
    "        print(\"Thank you for using program\")"
   ]
  },
  {
   "cell_type": "code",
   "execution_count": 6,
   "metadata": {
    "collapsed": false
   },
   "outputs": [
    {
     "name": "stdout",
     "output_type": "stream",
     "text": [
      "Invalid Salary\n",
      "Thank you for using program\n"
     ]
    }
   ],
   "source": [
    "main()"
   ]
  },
  {
   "cell_type": "code",
   "execution_count": 7,
   "metadata": {
    "collapsed": false
   },
   "outputs": [],
   "source": [
    "# 28\n",
    "def main():\n",
    "    try:\n",
    "        infile = open(\"Ages1.txt.\",\"r\")\n",
    "        age = int(infile.readline())\n",
    "        print(\"age\", age)\n",
    "    except FileNotFoundError:\n",
    "        print(\"file not found\")"
   ]
  },
  {
   "cell_type": "code",
   "execution_count": 8,
   "metadata": {
    "collapsed": false
   },
   "outputs": [
    {
     "name": "stdout",
     "output_type": "stream",
     "text": [
      "file not found\n"
     ]
    }
   ],
   "source": [
    "main()"
   ]
  },
  {
   "cell_type": "code",
   "execution_count": 9,
   "metadata": {
    "collapsed": false
   },
   "outputs": [
    {
     "name": "stdout",
     "output_type": "stream",
     "text": [
      "Enter a non zero number: 3\n",
      "Reciprocal of number 0.3333333333333333\n"
     ]
    }
   ],
   "source": [
    "# 29\n",
    "while True:\n",
    "    n = int(input(\"Enter a non zero number: \"))\n",
    "    if n != 0:\n",
    "        reciprocal = 1/n\n",
    "        print(\"Reciprocal of number\", reciprocal)\n",
    "        break\n",
    "    else:\n",
    "        print(\"you entered zero try again\")\n",
    "        "
   ]
  },
  {
   "cell_type": "code",
   "execution_count": 11,
   "metadata": {
    "collapsed": false,
    "scrolled": true
   },
   "outputs": [
    {
     "name": "stdout",
     "output_type": "stream",
     "text": [
      "Enter a state: New jersey\n",
      "The remaining list is here ['Harisburg']\n"
     ]
    }
   ],
   "source": [
    "# 30\n",
    "list1 = [\"Harisburg\", \"New jersey\"] # assume we will maintain the list here\n",
    "n = str(input(\"Enter a state: \"))\n",
    "list1.remove(n)\n",
    "print(\"The remaining list is here\", list1)       "
   ]
  },
  {
   "cell_type": "code",
   "execution_count": null,
   "metadata": {
    "collapsed": true
   },
   "outputs": [],
   "source": [
    "# Completed all the assignments from 1 to 30"
   ]
  }
 ],
 "metadata": {
  "anaconda-cloud": {},
  "kernelspec": {
   "display_name": "Python [Root]",
   "language": "python",
   "name": "Python [Root]"
  },
  "language_info": {
   "codemirror_mode": {
    "name": "ipython",
    "version": 3
   },
   "file_extension": ".py",
   "mimetype": "text/x-python",
   "name": "python",
   "nbconvert_exporter": "python",
   "pygments_lexer": "ipython3",
   "version": "3.5.3"
  }
 },
 "nbformat": 4,
 "nbformat_minor": 0
}
